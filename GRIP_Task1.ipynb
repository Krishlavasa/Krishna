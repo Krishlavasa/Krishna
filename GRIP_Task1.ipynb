{
  "cells": [
    {
      "cell_type": "markdown",
      "metadata": {
        "id": "view-in-github",
        "colab_type": "text"
      },
      "source": [
        "<a href=\"https://colab.research.google.com/github/Krishlavasa/Krishna/blob/main/GRIP_Task1.ipynb\" target=\"_parent\"><img src=\"https://colab.research.google.com/assets/colab-badge.svg\" alt=\"Open In Colab\"/></a>"
      ]
    },
    {
      "cell_type": "markdown",
      "id": "7a019470",
      "metadata": {
        "id": "7a019470"
      },
      "source": [
        "# **<center>TASK 1 - Prediction using Supervised ML**"
      ]
    },
    {
      "cell_type": "markdown",
      "id": "7a51575a",
      "metadata": {
        "id": "7a51575a"
      },
      "source": [
        "# GRIP @ The Sparks Foundation"
      ]
    },
    {
      "cell_type": "markdown",
      "id": "600b42a6",
      "metadata": {
        "id": "600b42a6"
      },
      "source": [
        "**In this regression task i tried to predict the percentage of marks of the students based on the number of hours they studied**"
      ]
    },
    {
      "cell_type": "markdown",
      "id": "438c32e2",
      "metadata": {
        "id": "438c32e2"
      },
      "source": [
        "### ***Author - KRISH GOYAL***"
      ]
    },
    {
      "cell_type": "code",
      "execution_count": null,
      "id": "5af9c752",
      "metadata": {
        "id": "5af9c752"
      },
      "outputs": [],
      "source": [
        "#importing the required libraries\n",
        "import pandas as pd\n",
        "import numpy as np\n",
        "import matplotlib.pyplot as plt\n",
        "from sklearn.model_selection import train_test_split\n",
        "from sklearn.linear_model import LinearRegression\n",
        "from sklearn import metrics"
      ]
    },
    {
      "cell_type": "markdown",
      "id": "b60d18d0",
      "metadata": {
        "id": "b60d18d0"
      },
      "source": [
        "### 1 - Reading data from Remote Link"
      ]
    },
    {
      "cell_type": "markdown",
      "source": [
        ""
      ],
      "metadata": {
        "id": "3OFpgKWL6UVB"
      },
      "id": "3OFpgKWL6UVB"
    },
    {
      "cell_type": "code",
      "execution_count": null,
      "id": "651d2bd6",
      "metadata": {
        "id": "651d2bd6",
        "outputId": "62f0f148-49cb-4df7-d4d3-29b00c86351e"
      },
      "outputs": [
        {
          "name": "stdout",
          "output_type": "stream",
          "text": [
            "Data imported successfully\n"
          ]
        },
        {
          "data": {
            "text/html": [
              "<div>\n",
              "<style scoped>\n",
              "    .dataframe tbody tr th:only-of-type {\n",
              "        vertical-align: middle;\n",
              "    }\n",
              "\n",
              "    .dataframe tbody tr th {\n",
              "        vertical-align: top;\n",
              "    }\n",
              "\n",
              "    .dataframe thead th {\n",
              "        text-align: right;\n",
              "    }\n",
              "</style>\n",
              "<table border=\"1\" class=\"dataframe\">\n",
              "  <thead>\n",
              "    <tr style=\"text-align: right;\">\n",
              "      <th></th>\n",
              "      <th>Hours</th>\n",
              "      <th>Scores</th>\n",
              "    </tr>\n",
              "  </thead>\n",
              "  <tbody>\n",
              "    <tr>\n",
              "      <th>0</th>\n",
              "      <td>2.5</td>\n",
              "      <td>21</td>\n",
              "    </tr>\n",
              "    <tr>\n",
              "      <th>1</th>\n",
              "      <td>5.1</td>\n",
              "      <td>47</td>\n",
              "    </tr>\n",
              "    <tr>\n",
              "      <th>2</th>\n",
              "      <td>3.2</td>\n",
              "      <td>27</td>\n",
              "    </tr>\n",
              "    <tr>\n",
              "      <th>3</th>\n",
              "      <td>8.5</td>\n",
              "      <td>75</td>\n",
              "    </tr>\n",
              "    <tr>\n",
              "      <th>4</th>\n",
              "      <td>3.5</td>\n",
              "      <td>30</td>\n",
              "    </tr>\n",
              "    <tr>\n",
              "      <th>5</th>\n",
              "      <td>1.5</td>\n",
              "      <td>20</td>\n",
              "    </tr>\n",
              "    <tr>\n",
              "      <th>6</th>\n",
              "      <td>9.2</td>\n",
              "      <td>88</td>\n",
              "    </tr>\n",
              "    <tr>\n",
              "      <th>7</th>\n",
              "      <td>5.5</td>\n",
              "      <td>60</td>\n",
              "    </tr>\n",
              "    <tr>\n",
              "      <th>8</th>\n",
              "      <td>8.3</td>\n",
              "      <td>81</td>\n",
              "    </tr>\n",
              "    <tr>\n",
              "      <th>9</th>\n",
              "      <td>2.7</td>\n",
              "      <td>25</td>\n",
              "    </tr>\n",
              "  </tbody>\n",
              "</table>\n",
              "</div>"
            ],
            "text/plain": [
              "   Hours  Scores\n",
              "0    2.5      21\n",
              "1    5.1      47\n",
              "2    3.2      27\n",
              "3    8.5      75\n",
              "4    3.5      30\n",
              "5    1.5      20\n",
              "6    9.2      88\n",
              "7    5.5      60\n",
              "8    8.3      81\n",
              "9    2.7      25"
            ]
          },
          "execution_count": 2,
          "metadata": {},
          "output_type": "execute_result"
        }
      ],
      "source": [
        "url = \"http://bit.ly/w-data\"\n",
        "data = pd.read_csv(url)\n",
        "print(\"Data imported successfully\")\n",
        "\n",
        "data.head(10)"
      ]
    },
    {
      "cell_type": "code",
      "execution_count": null,
      "id": "b83ec1d6",
      "metadata": {
        "id": "b83ec1d6",
        "outputId": "eed1bf85-34d2-4ecd-dd7d-eba3a331bb9c"
      },
      "outputs": [
        {
          "data": {
            "text/plain": [
              "False"
            ]
          },
          "execution_count": 3,
          "metadata": {},
          "output_type": "execute_result"
        }
      ],
      "source": [
        "# Check if there any null value in the Dataset\n",
        "data.isnull == True"
      ]
    },
    {
      "cell_type": "markdown",
      "id": "832944e3",
      "metadata": {
        "id": "832944e3"
      },
      "source": [
        "### **2 - Data Visualization**"
      ]
    },
    {
      "cell_type": "code",
      "execution_count": null,
      "id": "093e4a8e",
      "metadata": {
        "id": "093e4a8e",
        "outputId": "1663ea88-bea4-41e5-bff7-396252109463"
      },
      "outputs": [
        {
          "data": {
            "image/png": "[encoded data removed]",
            "text/plain": [
              "<Figure size 432x288 with 1 Axes>"
            ]
          },
          "metadata": {
            "needs_background": "light"
          },
          "output_type": "display_data"
        }
      ],
      "source": [
        "# Plotting the distribution of scores\n",
        "data.plot(x='Hours', y='Scores', style='o')  \n",
        "plt.title('Hours vs Percentage')  \n",
        "plt.xlabel('Hours Studied')  \n",
        "plt.ylabel('Percentage Score')  \n",
        "plt.show()"
      ]
    },
    {
      "cell_type": "markdown",
      "id": "bf16bd14",
      "metadata": {
        "id": "bf16bd14"
      },
      "source": [
        "**From the above scatter plot there looks to be correlation between the 'Marks Percentage' and 'Hours Studied'**"
      ]
    },
    {
      "cell_type": "markdown",
      "id": "b24fdeea",
      "metadata": {
        "id": "b24fdeea"
      },
      "source": [
        "### **3 - Data Preprocessing**"
      ]
    },
    {
      "cell_type": "code",
      "execution_count": null,
      "id": "256acac8",
      "metadata": {
        "id": "256acac8"
      },
      "outputs": [],
      "source": [
        "# Defining X and y from the Data\n",
        "X = data.iloc[:, :-1].values  \n",
        "y = data.iloc[:, 1].values"
      ]
    },
    {
      "cell_type": "markdown",
      "id": "a54bf64a",
      "metadata": {
        "id": "a54bf64a"
      },
      "source": [
        "### **4 - Training the Model**"
      ]
    },
    {
      "cell_type": "markdown",
      "id": "bd9058c0",
      "metadata": {
        "id": "bd9058c0"
      },
      "source": [
        "**Splitting the Data and Fitting the Data into the model**"
      ]
    },
    {
      "cell_type": "code",
      "execution_count": null,
      "id": "931fbbb9",
      "metadata": {
        "id": "931fbbb9",
        "outputId": "c754b7f9-ce78-4dc9-eb7f-f7d30ffa3b6e"
      },
      "outputs": [
        {
          "name": "stdout",
          "output_type": "stream",
          "text": [
            "***********Traing Complete************\n"
          ]
        }
      ],
      "source": [
        "# Spliting the Data in two\n",
        "train_X, val_X, train_y, val_y = train_test_split(X, y,  test_size=0.2,random_state = 0)\n",
        "regressor = LinearRegression()\n",
        "regressor.fit(train_X, train_y)\n",
        "\n",
        "print(\"***********Traing Complete************\")"
      ]
    },
    {
      "cell_type": "markdown",
      "id": "e4854288",
      "metadata": {
        "id": "e4854288"
      },
      "source": [
        "### **5 - Plotting the Line of Regression** "
      ]
    },
    {
      "cell_type": "code",
      "execution_count": null,
      "id": "4db0f963",
      "metadata": {
        "id": "4db0f963",
        "outputId": "a5c92a30-6779-41d0-f921-52cae1c5e82e"
      },
      "outputs": [
        {
          "data": {
            "image/png": "[encoded data removed]",
            "text/plain": [
              "<Figure size 432x288 with 1 Axes>"
            ]
          },
          "metadata": {
            "needs_background": "light"
          },
          "output_type": "display_data"
        }
      ],
      "source": [
        "# Plotting the regression line\n",
        "line = regressor.coef_*X+regressor.intercept_\n",
        "\n",
        "# Plotting for the test data\n",
        "plt.scatter(X, y)\n",
        "plt.plot(X, line,color = \"Black\")\n",
        "plt.title('Line of Best Fit')  \n",
        "plt.xlabel('Hours Studied')  \n",
        "plt.ylabel('Percentage Score')  \n",
        "plt.show()"
      ]
    },
    {
      "cell_type": "markdown",
      "id": "8497e9a8",
      "metadata": {
        "id": "8497e9a8"
      },
      "source": [
        "### **6 - Making Predictions**\n",
        "Now that we have trained our algorithm, it's time to make some predictions."
      ]
    },
    {
      "cell_type": "code",
      "execution_count": null,
      "id": "fcb823c1",
      "metadata": {
        "id": "fcb823c1",
        "outputId": "d46caa8e-2861-4bff-a7b3-e07aeefbc779"
      },
      "outputs": [
        {
          "name": "stdout",
          "output_type": "stream",
          "text": [
            "[[1.5]\n",
            " [3.2]\n",
            " [7.4]\n",
            " [2.5]\n",
            " [5.9]]\n"
          ]
        }
      ],
      "source": [
        "print(val_X) # Testing data - In Hours\n",
        "y_pred = regressor.predict(val_X) # Predicting the scores"
      ]
    },
    {
      "cell_type": "markdown",
      "id": "90abc6d1",
      "metadata": {
        "id": "90abc6d1"
      },
      "source": [
        "### **7 - Comparing the Predicted Marks with the Actual Marks**"
      ]
    },
    {
      "cell_type": "code",
      "execution_count": null,
      "id": "9be29600",
      "metadata": {
        "id": "9be29600",
        "outputId": "7a4664a4-26f9-41bf-a89f-25542fa82bcd"
      },
      "outputs": [
        {
          "data": {
            "text/html": [
              "<div>\n",
              "<style scoped>\n",
              "    .dataframe tbody tr th:only-of-type {\n",
              "        vertical-align: middle;\n",
              "    }\n",
              "\n",
              "    .dataframe tbody tr th {\n",
              "        vertical-align: top;\n",
              "    }\n",
              "\n",
              "    .dataframe thead th {\n",
              "        text-align: right;\n",
              "    }\n",
              "</style>\n",
              "<table border=\"1\" class=\"dataframe\">\n",
              "  <thead>\n",
              "    <tr style=\"text-align: right;\">\n",
              "      <th></th>\n",
              "      <th>Actual Marks</th>\n",
              "      <th>Predicted Marks</th>\n",
              "    </tr>\n",
              "  </thead>\n",
              "  <tbody>\n",
              "    <tr>\n",
              "      <th>0</th>\n",
              "      <td>20</td>\n",
              "      <td>16.884145</td>\n",
              "    </tr>\n",
              "    <tr>\n",
              "      <th>1</th>\n",
              "      <td>27</td>\n",
              "      <td>33.732261</td>\n",
              "    </tr>\n",
              "    <tr>\n",
              "      <th>2</th>\n",
              "      <td>69</td>\n",
              "      <td>75.357018</td>\n",
              "    </tr>\n",
              "    <tr>\n",
              "      <th>3</th>\n",
              "      <td>30</td>\n",
              "      <td>26.794801</td>\n",
              "    </tr>\n",
              "    <tr>\n",
              "      <th>4</th>\n",
              "      <td>62</td>\n",
              "      <td>60.491033</td>\n",
              "    </tr>\n",
              "  </tbody>\n",
              "</table>\n",
              "</div>"
            ],
            "text/plain": [
              "   Actual Marks  Predicted Marks\n",
              "0            20        16.884145\n",
              "1            27        33.732261\n",
              "2            69        75.357018\n",
              "3            30        26.794801\n",
              "4            62        60.491033"
            ]
          },
          "execution_count": 9,
          "metadata": {},
          "output_type": "execute_result"
        }
      ],
      "source": [
        "compare_scores = pd.DataFrame({'Actual Marks': val_y, 'Predicted Marks': y_pred})\n",
        "compare_scores"
      ]
    },
    {
      "cell_type": "code",
      "execution_count": null,
      "id": "e0419c7b",
      "metadata": {
        "id": "e0419c7b",
        "outputId": "398fdf11-e904-4468-e563-08cc6f16a9a9"
      },
      "outputs": [
        {
          "name": "stdout",
          "output_type": "stream",
          "text": [
            "Training Score: 0.9515510725211552\n",
            "Test Score: 0.9454906892105356\n"
          ]
        }
      ],
      "source": [
        "# Estimating training and test score \n",
        "print(\"Training Score:\",regressor.score(train_X,train_y))\n",
        "print(\"Test Score:\",regressor.score(val_X,val_y))"
      ]
    },
    {
      "cell_type": "code",
      "execution_count": null,
      "id": "365ca186",
      "metadata": {
        "id": "365ca186",
        "outputId": "ecd06af5-ef30-4ebf-d373-658530c1117d"
      },
      "outputs": [
        {
          "data": {
            "image/png": "[encoded data removed]",
            "text/plain": [
              "<Figure size 360x360 with 1 Axes>"
            ]
          },
          "metadata": {
            "needs_background": "light"
          },
          "output_type": "display_data"
        }
      ],
      "source": [
        "# Visually Comparing the Predicted Marks with the Actual Marks\n",
        "compare_scores.plot(kind= 'bar',figsize= (5,5))\n",
        "plt.grid(which='major',linewidth ='0.5',color = 'blue')\n",
        "plt.grid(which='minor',linewidth ='0.5',color = 'red')\n",
        "plt.show()"
      ]
    },
    {
      "cell_type": "code",
      "execution_count": null,
      "id": "7027065d",
      "metadata": {
        "id": "7027065d",
        "outputId": "55d41635-78ba-4aab-acf1-1bb44195330b"
      },
      "outputs": [
        {
          "name": "stdout",
          "output_type": "stream",
          "text": [
            "No of Hours = 9.25\n",
            "Predicted Score = 93.69173248737538\n"
          ]
        }
      ],
      "source": [
        "# Testing the model with our own data\n",
        "hours = 9.25\n",
        "own_pred = regressor.predict([[9.25]])\n",
        "print(\"No of Hours = {}\".format(hours))\n",
        "print(\"Predicted Score = {}\".format(own_pred[0]))"
      ]
    },
    {
      "cell_type": "markdown",
      "id": "89bd25ac",
      "metadata": {
        "id": "89bd25ac"
      },
      "source": [
        "### **Evaluating the model**\n",
        "\n",
        "The final step is to evaluate the performance of algorithm. This step is particularly important to compare how well different algorithms perform on a particular dataset. For simplicity here, we have chosen three main metrics:\n",
        "\n",
        "##### The mean square error\n",
        "##### The mean squared error\n",
        "##### The root mean squared error"
      ]
    },
    {
      "cell_type": "code",
      "execution_count": null,
      "id": "b2c6126f",
      "metadata": {
        "id": "b2c6126f",
        "outputId": "5b91d2e9-20cc-4cc2-923d-791b47dcabf7"
      },
      "outputs": [
        {
          "name": "stdout",
          "output_type": "stream",
          "text": [
            "Mean Absolute Error: 4.183859899002975\n",
            "Mean Squared Error: 21.5987693072174\n",
            "Root Mean Squared Error: 4.6474476121003665\n",
            "R-2: 0.9454906892105356\n"
          ]
        }
      ],
      "source": [
        "# Calculating the accuracy of the model\n",
        "print('Mean Absolute Error:', metrics.mean_absolute_error(val_y, y_pred)) \n",
        "print('Mean Squared Error:' ,metrics.mean_squared_error(val_y, y_pred))\n",
        "print('Root Mean Squared Error:', np.sqrt(metrics.mean_squared_error(val_y, y_pred)))\n",
        "print(\"R-2:\" ,metrics.r2_score(val_y,y_pred))"
      ]
    },
    {
      "cell_type": "markdown",
      "id": "5e6073ec",
      "metadata": {
        "id": "5e6073ec"
      },
      "source": [
        "R-2 gives the score of Model fit in this case we have R-2 = 0.9454906892105356 which is actually a great score for the Model."
      ]
    },
    {
      "cell_type": "markdown",
      "id": "32a269ad",
      "metadata": {
        "id": "32a269ad"
      },
      "source": [
        "### **What will be the predicted score of a student if he/she studies for 9.25 hrs/ day?**"
      ]
    },
    {
      "cell_type": "code",
      "execution_count": null,
      "id": "9002f48e",
      "metadata": {
        "id": "9002f48e",
        "outputId": "5422fb27-1da4-4103-f071-b092c677f32f"
      },
      "outputs": [
        {
          "ename": "NameError",
          "evalue": "name 'regression' is not defined",
          "output_type": "error",
          "traceback": [
            "\u001b[1;31m---------------------------------------------------------------------------\u001b[0m",
            "\u001b[1;31mNameError\u001b[0m                                 Traceback (most recent call last)",
            "\u001b[1;32m<ipython-input-14-f425a59f361e>\u001b[0m in \u001b[0;36m<module>\u001b[1;34m\u001b[0m\n\u001b[0;32m      1\u001b[0m \u001b[0mhours\u001b[0m \u001b[1;33m=\u001b[0m \u001b[1;33m[\u001b[0m\u001b[1;36m9.25\u001b[0m\u001b[1;33m]\u001b[0m\u001b[1;33m\u001b[0m\u001b[1;33m\u001b[0m\u001b[0m\n\u001b[1;32m----> 2\u001b[1;33m \u001b[0manswer\u001b[0m \u001b[1;33m=\u001b[0m \u001b[0mregression\u001b[0m\u001b[1;33m.\u001b[0m\u001b[0mpredict\u001b[0m\u001b[1;33m(\u001b[0m\u001b[1;33m[\u001b[0m\u001b[0mhours\u001b[0m\u001b[1;33m]\u001b[0m\u001b[1;33m)\u001b[0m\u001b[1;33m\u001b[0m\u001b[1;33m\u001b[0m\u001b[0m\n\u001b[0m\u001b[0;32m      3\u001b[0m \u001b[0mprint\u001b[0m\u001b[1;33m(\u001b[0m\u001b[1;34m\"Score = {}\"\u001b[0m\u001b[1;33m.\u001b[0m\u001b[0mformat\u001b[0m\u001b[1;33m(\u001b[0m\u001b[0mround\u001b[0m\u001b[1;33m(\u001b[0m\u001b[0manswer\u001b[0m\u001b[1;33m[\u001b[0m\u001b[1;36m0\u001b[0m\u001b[1;33m]\u001b[0m\u001b[1;33m,\u001b[0m\u001b[1;36m3\u001b[0m\u001b[1;33m)\u001b[0m\u001b[1;33m)\u001b[0m\u001b[1;33m)\u001b[0m\u001b[1;33m\u001b[0m\u001b[1;33m\u001b[0m\u001b[0m\n",
            "\u001b[1;31mNameError\u001b[0m: name 'regression' is not defined"
          ]
        }
      ],
      "source": [
        "hours = [9.25]\n",
        "answer = regression.predict([hours])\n",
        "print(\"Score = {}\".format(round(answer[0],3)))"
      ]
    },
    {
      "cell_type": "markdown",
      "id": "492ca7f4",
      "metadata": {
        "id": "492ca7f4"
      },
      "source": [
        "**According to the regression model if a student studies for 9.25 hours a day he/she is likely to score 93.89 marks.**"
      ]
    },
    {
      "cell_type": "markdown",
      "id": "346d0fb3",
      "metadata": {
        "id": "346d0fb3"
      },
      "source": [
        "## **Conclusion**"
      ]
    },
    {
      "cell_type": "markdown",
      "id": "80ced2f7",
      "metadata": {
        "id": "80ced2f7"
      },
      "source": [
        "**I have successfully carried out Prediction using Supervised ML task and was able to evaluate the model's performance on the various parameters.**"
      ]
    },
    {
      "cell_type": "markdown",
      "id": "d1999d82",
      "metadata": {
        "id": "d1999d82"
      },
      "source": [
        "# **Thank You**"
      ]
    }
  ],
  "metadata": {
    "kernelspec": {
      "display_name": "Python 3",
      "language": "python",
      "name": "python3"
    },
    "language_info": {
      "codemirror_mode": {
        "name": "ipython",
        "version": 3
      },
      "file_extension": ".py",
      "mimetype": "text/x-python",
      "name": "python",
      "nbconvert_exporter": "python",
      "pygments_lexer": "ipython3",
      "version": "3.8.8"
    },
    "colab": {
      "name": "GRIP_Task1.ipynb",
      "provenance": [],
      "include_colab_link": true
    }
  },
  "nbformat": 4,
  "nbformat_minor": 5
}